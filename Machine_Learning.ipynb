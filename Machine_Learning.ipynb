{
 "cells": [
  {
   "cell_type": "code",
   "execution_count": 1,
   "id": "1e9aa89c",
   "metadata": {},
   "outputs": [],
   "source": [
    "import pandas as pd\n",
    "import numpy as np\n",
    "import matplotlib.pyplot as plt\n",
    "import seaborn as sns"
   ]
  },
  {
   "cell_type": "code",
   "execution_count": 2,
   "id": "02fd9024",
   "metadata": {},
   "outputs": [],
   "source": [
    "data = pd.read_csv(\"student_clean.csv\")"
   ]
  },
  {
   "cell_type": "code",
   "execution_count": 3,
   "id": "3a51b344",
   "metadata": {},
   "outputs": [
    {
     "data": {
      "text/plain": [
       "school         2\n",
       "sex            2\n",
       "age            5\n",
       "address        2\n",
       "famsize        2\n",
       "Pstatus        2\n",
       "Medu           4\n",
       "Fedu           4\n",
       "Mjob           5\n",
       "Fjob           5\n",
       "reason         4\n",
       "guardian       3\n",
       "traveltime     2\n",
       "studytime      4\n",
       "failures       2\n",
       "schoolsup      2\n",
       "famsup         2\n",
       "paid           2\n",
       "activities     2\n",
       "nursery        2\n",
       "higher         2\n",
       "internet       2\n",
       "romantic       2\n",
       "famrel         5\n",
       "freetime       5\n",
       "goout          5\n",
       "Dalc           3\n",
       "Walc           4\n",
       "health         5\n",
       "absences       2\n",
       "G1            18\n",
       "G2            17\n",
       "G3            18\n",
       "Total         54\n",
       "Grades         5\n",
       "dtype: int64"
      ]
     },
     "execution_count": 3,
     "metadata": {},
     "output_type": "execute_result"
    }
   ],
   "source": [
    "data.nunique()"
   ]
  },
  {
   "cell_type": "code",
   "execution_count": 4,
   "id": "754b8d54",
   "metadata": {},
   "outputs": [
    {
     "data": {
      "text/html": [
       "<div>\n",
       "<style scoped>\n",
       "    .dataframe tbody tr th:only-of-type {\n",
       "        vertical-align: middle;\n",
       "    }\n",
       "\n",
       "    .dataframe tbody tr th {\n",
       "        vertical-align: top;\n",
       "    }\n",
       "\n",
       "    .dataframe thead th {\n",
       "        text-align: right;\n",
       "    }\n",
       "</style>\n",
       "<table border=\"1\" class=\"dataframe\">\n",
       "  <thead>\n",
       "    <tr style=\"text-align: right;\">\n",
       "      <th></th>\n",
       "      <th>school</th>\n",
       "      <th>sex</th>\n",
       "      <th>age</th>\n",
       "      <th>address</th>\n",
       "      <th>famsize</th>\n",
       "      <th>Pstatus</th>\n",
       "      <th>Medu</th>\n",
       "      <th>Fedu</th>\n",
       "      <th>Mjob</th>\n",
       "      <th>Fjob</th>\n",
       "      <th>...</th>\n",
       "      <th>goout</th>\n",
       "      <th>Dalc</th>\n",
       "      <th>Walc</th>\n",
       "      <th>health</th>\n",
       "      <th>absences</th>\n",
       "      <th>G1</th>\n",
       "      <th>G2</th>\n",
       "      <th>G3</th>\n",
       "      <th>Total</th>\n",
       "      <th>Grades</th>\n",
       "    </tr>\n",
       "  </thead>\n",
       "  <tbody>\n",
       "    <tr>\n",
       "      <th>0</th>\n",
       "      <td>GP</td>\n",
       "      <td>F</td>\n",
       "      <td>18</td>\n",
       "      <td>U</td>\n",
       "      <td>GT3</td>\n",
       "      <td>A</td>\n",
       "      <td>4</td>\n",
       "      <td>4</td>\n",
       "      <td>at_home</td>\n",
       "      <td>teacher</td>\n",
       "      <td>...</td>\n",
       "      <td>4</td>\n",
       "      <td>1</td>\n",
       "      <td>1</td>\n",
       "      <td>3</td>\n",
       "      <td>1</td>\n",
       "      <td>0</td>\n",
       "      <td>11</td>\n",
       "      <td>11</td>\n",
       "      <td>22</td>\n",
       "      <td>Fail</td>\n",
       "    </tr>\n",
       "    <tr>\n",
       "      <th>1</th>\n",
       "      <td>GP</td>\n",
       "      <td>F</td>\n",
       "      <td>17</td>\n",
       "      <td>U</td>\n",
       "      <td>GT3</td>\n",
       "      <td>T</td>\n",
       "      <td>1</td>\n",
       "      <td>1</td>\n",
       "      <td>at_home</td>\n",
       "      <td>other</td>\n",
       "      <td>...</td>\n",
       "      <td>3</td>\n",
       "      <td>1</td>\n",
       "      <td>1</td>\n",
       "      <td>3</td>\n",
       "      <td>1</td>\n",
       "      <td>9</td>\n",
       "      <td>11</td>\n",
       "      <td>11</td>\n",
       "      <td>31</td>\n",
       "      <td>Satisfied</td>\n",
       "    </tr>\n",
       "    <tr>\n",
       "      <th>2</th>\n",
       "      <td>GP</td>\n",
       "      <td>F</td>\n",
       "      <td>15</td>\n",
       "      <td>U</td>\n",
       "      <td>LE3</td>\n",
       "      <td>T</td>\n",
       "      <td>1</td>\n",
       "      <td>1</td>\n",
       "      <td>at_home</td>\n",
       "      <td>other</td>\n",
       "      <td>...</td>\n",
       "      <td>2</td>\n",
       "      <td>2</td>\n",
       "      <td>3</td>\n",
       "      <td>3</td>\n",
       "      <td>1</td>\n",
       "      <td>12</td>\n",
       "      <td>13</td>\n",
       "      <td>12</td>\n",
       "      <td>37</td>\n",
       "      <td>Good</td>\n",
       "    </tr>\n",
       "    <tr>\n",
       "      <th>3</th>\n",
       "      <td>GP</td>\n",
       "      <td>F</td>\n",
       "      <td>15</td>\n",
       "      <td>U</td>\n",
       "      <td>GT3</td>\n",
       "      <td>T</td>\n",
       "      <td>4</td>\n",
       "      <td>2</td>\n",
       "      <td>health</td>\n",
       "      <td>services</td>\n",
       "      <td>...</td>\n",
       "      <td>2</td>\n",
       "      <td>1</td>\n",
       "      <td>1</td>\n",
       "      <td>5</td>\n",
       "      <td>0</td>\n",
       "      <td>14</td>\n",
       "      <td>14</td>\n",
       "      <td>14</td>\n",
       "      <td>42</td>\n",
       "      <td>Very Good</td>\n",
       "    </tr>\n",
       "    <tr>\n",
       "      <th>4</th>\n",
       "      <td>GP</td>\n",
       "      <td>F</td>\n",
       "      <td>16</td>\n",
       "      <td>U</td>\n",
       "      <td>GT3</td>\n",
       "      <td>T</td>\n",
       "      <td>3</td>\n",
       "      <td>3</td>\n",
       "      <td>other</td>\n",
       "      <td>other</td>\n",
       "      <td>...</td>\n",
       "      <td>2</td>\n",
       "      <td>1</td>\n",
       "      <td>2</td>\n",
       "      <td>5</td>\n",
       "      <td>0</td>\n",
       "      <td>11</td>\n",
       "      <td>13</td>\n",
       "      <td>13</td>\n",
       "      <td>37</td>\n",
       "      <td>Good</td>\n",
       "    </tr>\n",
       "  </tbody>\n",
       "</table>\n",
       "<p>5 rows × 35 columns</p>\n",
       "</div>"
      ],
      "text/plain": [
       "  school sex age address famsize Pstatus  Medu  Fedu     Mjob      Fjob  ...  \\\n",
       "0     GP   F  18       U     GT3       A     4     4  at_home   teacher  ...   \n",
       "1     GP   F  17       U     GT3       T     1     1  at_home     other  ...   \n",
       "2     GP   F  15       U     LE3       T     1     1  at_home     other  ...   \n",
       "3     GP   F  15       U     GT3       T     4     2   health  services  ...   \n",
       "4     GP   F  16       U     GT3       T     3     3    other     other  ...   \n",
       "\n",
       "  goout Dalc  Walc  health  absences  G1  G2  G3 Total     Grades  \n",
       "0     4    1     1       3         1   0  11  11    22       Fail  \n",
       "1     3    1     1       3         1   9  11  11    31  Satisfied  \n",
       "2     2    2     3       3         1  12  13  12    37       Good  \n",
       "3     2    1     1       5         0  14  14  14    42  Very Good  \n",
       "4     2    1     2       5         0  11  13  13    37       Good  \n",
       "\n",
       "[5 rows x 35 columns]"
      ]
     },
     "execution_count": 4,
     "metadata": {},
     "output_type": "execute_result"
    }
   ],
   "source": [
    "data.head()"
   ]
  },
  {
   "cell_type": "markdown",
   "id": "4e53af87",
   "metadata": {},
   "source": [
    "# Encoding the data"
   ]
  },
  {
   "cell_type": "markdown",
   "id": "201714be",
   "metadata": {},
   "source": [
    "### Drop unnessary features after conducting EDA"
   ]
  },
  {
   "cell_type": "code",
   "execution_count": 5,
   "id": "16705935",
   "metadata": {},
   "outputs": [],
   "source": [
    "data.drop(columns=['Total','traveltime', 'famrel','sex','Mjob','Fjob','famsize','Pstatus','reason','guardian','schoolsup','famsup','paid','activities','nursery','internet','romantic'], inplace=True)"
   ]
  },
  {
   "cell_type": "code",
   "execution_count": 6,
   "id": "ccd1ee13",
   "metadata": {},
   "outputs": [],
   "source": [
    "cols = ['school', 'address', 'higher']\n",
    "\n",
    "for col in cols:\n",
    "    data[col] = data[col].map({data[col].value_counts().index[0]: 1, data[col].value_counts().index[1]: 0})"
   ]
  },
  {
   "cell_type": "markdown",
   "id": "83e96425",
   "metadata": {},
   "source": [
    "### Mapping grades to numerical values"
   ]
  },
  {
   "cell_type": "code",
   "execution_count": 7,
   "id": "212715c7",
   "metadata": {},
   "outputs": [],
   "source": [
    "data[\"Grades\"] = data[\"Grades\"].map({\"Fail\": 0, \"Satisfied\": 1, \"Good\": 2, \"Very Good\": 3, \"Excellent\": 4})"
   ]
  },
  {
   "cell_type": "code",
   "execution_count": 8,
   "id": "e4e87688",
   "metadata": {},
   "outputs": [
    {
     "data": {
      "text/html": [
       "<div>\n",
       "<style scoped>\n",
       "    .dataframe tbody tr th:only-of-type {\n",
       "        vertical-align: middle;\n",
       "    }\n",
       "\n",
       "    .dataframe tbody tr th {\n",
       "        vertical-align: top;\n",
       "    }\n",
       "\n",
       "    .dataframe thead th {\n",
       "        text-align: right;\n",
       "    }\n",
       "</style>\n",
       "<table border=\"1\" class=\"dataframe\">\n",
       "  <thead>\n",
       "    <tr style=\"text-align: right;\">\n",
       "      <th></th>\n",
       "      <th>school</th>\n",
       "      <th>age</th>\n",
       "      <th>address</th>\n",
       "      <th>Medu</th>\n",
       "      <th>Fedu</th>\n",
       "      <th>studytime</th>\n",
       "      <th>failures</th>\n",
       "      <th>higher</th>\n",
       "      <th>freetime</th>\n",
       "      <th>goout</th>\n",
       "      <th>Dalc</th>\n",
       "      <th>Walc</th>\n",
       "      <th>health</th>\n",
       "      <th>absences</th>\n",
       "      <th>G1</th>\n",
       "      <th>G2</th>\n",
       "      <th>G3</th>\n",
       "      <th>Grades</th>\n",
       "    </tr>\n",
       "  </thead>\n",
       "  <tbody>\n",
       "    <tr>\n",
       "      <th>0</th>\n",
       "      <td>1</td>\n",
       "      <td>18</td>\n",
       "      <td>1</td>\n",
       "      <td>4</td>\n",
       "      <td>4</td>\n",
       "      <td>2</td>\n",
       "      <td>0</td>\n",
       "      <td>1</td>\n",
       "      <td>3</td>\n",
       "      <td>4</td>\n",
       "      <td>1</td>\n",
       "      <td>1</td>\n",
       "      <td>3</td>\n",
       "      <td>1</td>\n",
       "      <td>0</td>\n",
       "      <td>11</td>\n",
       "      <td>11</td>\n",
       "      <td>0</td>\n",
       "    </tr>\n",
       "    <tr>\n",
       "      <th>1</th>\n",
       "      <td>1</td>\n",
       "      <td>17</td>\n",
       "      <td>1</td>\n",
       "      <td>1</td>\n",
       "      <td>1</td>\n",
       "      <td>2</td>\n",
       "      <td>0</td>\n",
       "      <td>1</td>\n",
       "      <td>3</td>\n",
       "      <td>3</td>\n",
       "      <td>1</td>\n",
       "      <td>1</td>\n",
       "      <td>3</td>\n",
       "      <td>1</td>\n",
       "      <td>9</td>\n",
       "      <td>11</td>\n",
       "      <td>11</td>\n",
       "      <td>1</td>\n",
       "    </tr>\n",
       "    <tr>\n",
       "      <th>2</th>\n",
       "      <td>1</td>\n",
       "      <td>15</td>\n",
       "      <td>1</td>\n",
       "      <td>1</td>\n",
       "      <td>1</td>\n",
       "      <td>2</td>\n",
       "      <td>0</td>\n",
       "      <td>1</td>\n",
       "      <td>3</td>\n",
       "      <td>2</td>\n",
       "      <td>2</td>\n",
       "      <td>3</td>\n",
       "      <td>3</td>\n",
       "      <td>1</td>\n",
       "      <td>12</td>\n",
       "      <td>13</td>\n",
       "      <td>12</td>\n",
       "      <td>2</td>\n",
       "    </tr>\n",
       "    <tr>\n",
       "      <th>3</th>\n",
       "      <td>1</td>\n",
       "      <td>15</td>\n",
       "      <td>1</td>\n",
       "      <td>4</td>\n",
       "      <td>2</td>\n",
       "      <td>3</td>\n",
       "      <td>0</td>\n",
       "      <td>1</td>\n",
       "      <td>2</td>\n",
       "      <td>2</td>\n",
       "      <td>1</td>\n",
       "      <td>1</td>\n",
       "      <td>5</td>\n",
       "      <td>0</td>\n",
       "      <td>14</td>\n",
       "      <td>14</td>\n",
       "      <td>14</td>\n",
       "      <td>3</td>\n",
       "    </tr>\n",
       "    <tr>\n",
       "      <th>4</th>\n",
       "      <td>1</td>\n",
       "      <td>16</td>\n",
       "      <td>1</td>\n",
       "      <td>3</td>\n",
       "      <td>3</td>\n",
       "      <td>2</td>\n",
       "      <td>0</td>\n",
       "      <td>1</td>\n",
       "      <td>3</td>\n",
       "      <td>2</td>\n",
       "      <td>1</td>\n",
       "      <td>2</td>\n",
       "      <td>5</td>\n",
       "      <td>0</td>\n",
       "      <td>11</td>\n",
       "      <td>13</td>\n",
       "      <td>13</td>\n",
       "      <td>2</td>\n",
       "    </tr>\n",
       "  </tbody>\n",
       "</table>\n",
       "</div>"
      ],
      "text/plain": [
       "   school age  address  Medu  Fedu  studytime  failures  higher  freetime  \\\n",
       "0       1  18        1     4     4          2         0       1         3   \n",
       "1       1  17        1     1     1          2         0       1         3   \n",
       "2       1  15        1     1     1          2         0       1         3   \n",
       "3       1  15        1     4     2          3         0       1         2   \n",
       "4       1  16        1     3     3          2         0       1         3   \n",
       "\n",
       "   goout  Dalc  Walc  health  absences  G1  G2  G3  Grades  \n",
       "0      4     1     1       3         1   0  11  11       0  \n",
       "1      3     1     1       3         1   9  11  11       1  \n",
       "2      2     2     3       3         1  12  13  12       2  \n",
       "3      2     1     1       5         0  14  14  14       3  \n",
       "4      2     1     2       5         0  11  13  13       2  "
      ]
     },
     "execution_count": 8,
     "metadata": {},
     "output_type": "execute_result"
    }
   ],
   "source": [
    "data.head()"
   ]
  },
  {
   "cell_type": "markdown",
   "id": "887b7fc3",
   "metadata": {},
   "source": [
    "### One-hot encoding 'age' feature"
   ]
  },
  {
   "cell_type": "code",
   "execution_count": 9,
   "id": "c0ea782f",
   "metadata": {},
   "outputs": [
    {
     "data": {
      "text/html": [
       "<div>\n",
       "<style scoped>\n",
       "    .dataframe tbody tr th:only-of-type {\n",
       "        vertical-align: middle;\n",
       "    }\n",
       "\n",
       "    .dataframe tbody tr th {\n",
       "        vertical-align: top;\n",
       "    }\n",
       "\n",
       "    .dataframe thead th {\n",
       "        text-align: right;\n",
       "    }\n",
       "</style>\n",
       "<table border=\"1\" class=\"dataframe\">\n",
       "  <thead>\n",
       "    <tr style=\"text-align: right;\">\n",
       "      <th></th>\n",
       "      <th>school</th>\n",
       "      <th>address</th>\n",
       "      <th>Medu</th>\n",
       "      <th>Fedu</th>\n",
       "      <th>studytime</th>\n",
       "      <th>failures</th>\n",
       "      <th>higher</th>\n",
       "      <th>freetime</th>\n",
       "      <th>goout</th>\n",
       "      <th>Dalc</th>\n",
       "      <th>...</th>\n",
       "      <th>absences</th>\n",
       "      <th>G1</th>\n",
       "      <th>G2</th>\n",
       "      <th>G3</th>\n",
       "      <th>Grades</th>\n",
       "      <th>age_15</th>\n",
       "      <th>age_16</th>\n",
       "      <th>age_17</th>\n",
       "      <th>age_18</th>\n",
       "      <th>age_over_18</th>\n",
       "    </tr>\n",
       "  </thead>\n",
       "  <tbody>\n",
       "    <tr>\n",
       "      <th>0</th>\n",
       "      <td>1</td>\n",
       "      <td>1</td>\n",
       "      <td>4</td>\n",
       "      <td>4</td>\n",
       "      <td>2</td>\n",
       "      <td>0</td>\n",
       "      <td>1</td>\n",
       "      <td>3</td>\n",
       "      <td>4</td>\n",
       "      <td>1</td>\n",
       "      <td>...</td>\n",
       "      <td>1</td>\n",
       "      <td>0</td>\n",
       "      <td>11</td>\n",
       "      <td>11</td>\n",
       "      <td>0</td>\n",
       "      <td>False</td>\n",
       "      <td>False</td>\n",
       "      <td>False</td>\n",
       "      <td>True</td>\n",
       "      <td>False</td>\n",
       "    </tr>\n",
       "    <tr>\n",
       "      <th>1</th>\n",
       "      <td>1</td>\n",
       "      <td>1</td>\n",
       "      <td>1</td>\n",
       "      <td>1</td>\n",
       "      <td>2</td>\n",
       "      <td>0</td>\n",
       "      <td>1</td>\n",
       "      <td>3</td>\n",
       "      <td>3</td>\n",
       "      <td>1</td>\n",
       "      <td>...</td>\n",
       "      <td>1</td>\n",
       "      <td>9</td>\n",
       "      <td>11</td>\n",
       "      <td>11</td>\n",
       "      <td>1</td>\n",
       "      <td>False</td>\n",
       "      <td>False</td>\n",
       "      <td>True</td>\n",
       "      <td>False</td>\n",
       "      <td>False</td>\n",
       "    </tr>\n",
       "    <tr>\n",
       "      <th>2</th>\n",
       "      <td>1</td>\n",
       "      <td>1</td>\n",
       "      <td>1</td>\n",
       "      <td>1</td>\n",
       "      <td>2</td>\n",
       "      <td>0</td>\n",
       "      <td>1</td>\n",
       "      <td>3</td>\n",
       "      <td>2</td>\n",
       "      <td>2</td>\n",
       "      <td>...</td>\n",
       "      <td>1</td>\n",
       "      <td>12</td>\n",
       "      <td>13</td>\n",
       "      <td>12</td>\n",
       "      <td>2</td>\n",
       "      <td>True</td>\n",
       "      <td>False</td>\n",
       "      <td>False</td>\n",
       "      <td>False</td>\n",
       "      <td>False</td>\n",
       "    </tr>\n",
       "    <tr>\n",
       "      <th>3</th>\n",
       "      <td>1</td>\n",
       "      <td>1</td>\n",
       "      <td>4</td>\n",
       "      <td>2</td>\n",
       "      <td>3</td>\n",
       "      <td>0</td>\n",
       "      <td>1</td>\n",
       "      <td>2</td>\n",
       "      <td>2</td>\n",
       "      <td>1</td>\n",
       "      <td>...</td>\n",
       "      <td>0</td>\n",
       "      <td>14</td>\n",
       "      <td>14</td>\n",
       "      <td>14</td>\n",
       "      <td>3</td>\n",
       "      <td>True</td>\n",
       "      <td>False</td>\n",
       "      <td>False</td>\n",
       "      <td>False</td>\n",
       "      <td>False</td>\n",
       "    </tr>\n",
       "    <tr>\n",
       "      <th>4</th>\n",
       "      <td>1</td>\n",
       "      <td>1</td>\n",
       "      <td>3</td>\n",
       "      <td>3</td>\n",
       "      <td>2</td>\n",
       "      <td>0</td>\n",
       "      <td>1</td>\n",
       "      <td>3</td>\n",
       "      <td>2</td>\n",
       "      <td>1</td>\n",
       "      <td>...</td>\n",
       "      <td>0</td>\n",
       "      <td>11</td>\n",
       "      <td>13</td>\n",
       "      <td>13</td>\n",
       "      <td>2</td>\n",
       "      <td>False</td>\n",
       "      <td>True</td>\n",
       "      <td>False</td>\n",
       "      <td>False</td>\n",
       "      <td>False</td>\n",
       "    </tr>\n",
       "  </tbody>\n",
       "</table>\n",
       "<p>5 rows × 22 columns</p>\n",
       "</div>"
      ],
      "text/plain": [
       "   school  address  Medu  Fedu  studytime  failures  higher  freetime  goout  \\\n",
       "0       1        1     4     4          2         0       1         3      4   \n",
       "1       1        1     1     1          2         0       1         3      3   \n",
       "2       1        1     1     1          2         0       1         3      2   \n",
       "3       1        1     4     2          3         0       1         2      2   \n",
       "4       1        1     3     3          2         0       1         3      2   \n",
       "\n",
       "   Dalc  ...  absences  G1  G2  G3  Grades  age_15  age_16  age_17  age_18  \\\n",
       "0     1  ...         1   0  11  11       0   False   False   False    True   \n",
       "1     1  ...         1   9  11  11       1   False   False    True   False   \n",
       "2     2  ...         1  12  13  12       2    True   False   False   False   \n",
       "3     1  ...         0  14  14  14       3    True   False   False   False   \n",
       "4     1  ...         0  11  13  13       2   False    True   False   False   \n",
       "\n",
       "   age_over_18  \n",
       "0        False  \n",
       "1        False  \n",
       "2        False  \n",
       "3        False  \n",
       "4        False  \n",
       "\n",
       "[5 rows x 22 columns]"
      ]
     },
     "execution_count": 9,
     "metadata": {},
     "output_type": "execute_result"
    }
   ],
   "source": [
    "data = pd.get_dummies(data , columns = [\"age\"])\n",
    "data.head()"
   ]
  },
  {
   "cell_type": "code",
   "execution_count": 10,
   "id": "9f6b1ba9",
   "metadata": {},
   "outputs": [
    {
     "name": "stdout",
     "output_type": "stream",
     "text": [
      "<class 'pandas.core.frame.DataFrame'>\n",
      "RangeIndex: 990 entries, 0 to 989\n",
      "Data columns (total 22 columns):\n",
      " #   Column       Non-Null Count  Dtype\n",
      "---  ------       --------------  -----\n",
      " 0   school       990 non-null    int64\n",
      " 1   address      990 non-null    int64\n",
      " 2   Medu         990 non-null    int64\n",
      " 3   Fedu         990 non-null    int64\n",
      " 4   studytime    990 non-null    int64\n",
      " 5   failures     990 non-null    int64\n",
      " 6   higher       990 non-null    int64\n",
      " 7   freetime     990 non-null    int64\n",
      " 8   goout        990 non-null    int64\n",
      " 9   Dalc         990 non-null    int64\n",
      " 10  Walc         990 non-null    int64\n",
      " 11  health       990 non-null    int64\n",
      " 12  absences     990 non-null    int64\n",
      " 13  G1           990 non-null    int64\n",
      " 14  G2           990 non-null    int64\n",
      " 15  G3           990 non-null    int64\n",
      " 16  Grades       990 non-null    int64\n",
      " 17  age_15       990 non-null    bool \n",
      " 18  age_16       990 non-null    bool \n",
      " 19  age_17       990 non-null    bool \n",
      " 20  age_18       990 non-null    bool \n",
      " 21  age_over_18  990 non-null    bool \n",
      "dtypes: bool(5), int64(17)\n",
      "memory usage: 136.4 KB\n"
     ]
    }
   ],
   "source": [
    "data.info()"
   ]
  },
  {
   "cell_type": "markdown",
   "id": "ab3d037a",
   "metadata": {},
   "source": [
    "### Convert false/true to 0/1"
   ]
  },
  {
   "cell_type": "code",
   "execution_count": 11,
   "id": "58c8bc71",
   "metadata": {},
   "outputs": [],
   "source": [
    "data = data.replace({False: 0, True: 1})"
   ]
  },
  {
   "cell_type": "code",
   "execution_count": 12,
   "id": "f809821b",
   "metadata": {},
   "outputs": [
    {
     "name": "stdout",
     "output_type": "stream",
     "text": [
      "<class 'pandas.core.frame.DataFrame'>\n",
      "RangeIndex: 990 entries, 0 to 989\n",
      "Data columns (total 22 columns):\n",
      " #   Column       Non-Null Count  Dtype\n",
      "---  ------       --------------  -----\n",
      " 0   school       990 non-null    int64\n",
      " 1   address      990 non-null    int64\n",
      " 2   Medu         990 non-null    int64\n",
      " 3   Fedu         990 non-null    int64\n",
      " 4   studytime    990 non-null    int64\n",
      " 5   failures     990 non-null    int64\n",
      " 6   higher       990 non-null    int64\n",
      " 7   freetime     990 non-null    int64\n",
      " 8   goout        990 non-null    int64\n",
      " 9   Dalc         990 non-null    int64\n",
      " 10  Walc         990 non-null    int64\n",
      " 11  health       990 non-null    int64\n",
      " 12  absences     990 non-null    int64\n",
      " 13  G1           990 non-null    int64\n",
      " 14  G2           990 non-null    int64\n",
      " 15  G3           990 non-null    int64\n",
      " 16  Grades       990 non-null    int64\n",
      " 17  age_15       990 non-null    int64\n",
      " 18  age_16       990 non-null    int64\n",
      " 19  age_17       990 non-null    int64\n",
      " 20  age_18       990 non-null    int64\n",
      " 21  age_over_18  990 non-null    int64\n",
      "dtypes: int64(22)\n",
      "memory usage: 170.3 KB\n"
     ]
    }
   ],
   "source": [
    "data.info()"
   ]
  },
  {
   "cell_type": "code",
   "execution_count": 13,
   "id": "9ad36be7",
   "metadata": {},
   "outputs": [
    {
     "data": {
      "text/html": [
       "<div>\n",
       "<style scoped>\n",
       "    .dataframe tbody tr th:only-of-type {\n",
       "        vertical-align: middle;\n",
       "    }\n",
       "\n",
       "    .dataframe tbody tr th {\n",
       "        vertical-align: top;\n",
       "    }\n",
       "\n",
       "    .dataframe thead th {\n",
       "        text-align: right;\n",
       "    }\n",
       "</style>\n",
       "<table border=\"1\" class=\"dataframe\">\n",
       "  <thead>\n",
       "    <tr style=\"text-align: right;\">\n",
       "      <th></th>\n",
       "      <th>school</th>\n",
       "      <th>address</th>\n",
       "      <th>Medu</th>\n",
       "      <th>Fedu</th>\n",
       "      <th>studytime</th>\n",
       "      <th>failures</th>\n",
       "      <th>higher</th>\n",
       "      <th>freetime</th>\n",
       "      <th>goout</th>\n",
       "      <th>Dalc</th>\n",
       "      <th>...</th>\n",
       "      <th>absences</th>\n",
       "      <th>G1</th>\n",
       "      <th>G2</th>\n",
       "      <th>G3</th>\n",
       "      <th>Grades</th>\n",
       "      <th>age_15</th>\n",
       "      <th>age_16</th>\n",
       "      <th>age_17</th>\n",
       "      <th>age_18</th>\n",
       "      <th>age_over_18</th>\n",
       "    </tr>\n",
       "  </thead>\n",
       "  <tbody>\n",
       "    <tr>\n",
       "      <th>0</th>\n",
       "      <td>1</td>\n",
       "      <td>1</td>\n",
       "      <td>4</td>\n",
       "      <td>4</td>\n",
       "      <td>2</td>\n",
       "      <td>0</td>\n",
       "      <td>1</td>\n",
       "      <td>3</td>\n",
       "      <td>4</td>\n",
       "      <td>1</td>\n",
       "      <td>...</td>\n",
       "      <td>1</td>\n",
       "      <td>0</td>\n",
       "      <td>11</td>\n",
       "      <td>11</td>\n",
       "      <td>0</td>\n",
       "      <td>0</td>\n",
       "      <td>0</td>\n",
       "      <td>0</td>\n",
       "      <td>1</td>\n",
       "      <td>0</td>\n",
       "    </tr>\n",
       "    <tr>\n",
       "      <th>1</th>\n",
       "      <td>1</td>\n",
       "      <td>1</td>\n",
       "      <td>1</td>\n",
       "      <td>1</td>\n",
       "      <td>2</td>\n",
       "      <td>0</td>\n",
       "      <td>1</td>\n",
       "      <td>3</td>\n",
       "      <td>3</td>\n",
       "      <td>1</td>\n",
       "      <td>...</td>\n",
       "      <td>1</td>\n",
       "      <td>9</td>\n",
       "      <td>11</td>\n",
       "      <td>11</td>\n",
       "      <td>1</td>\n",
       "      <td>0</td>\n",
       "      <td>0</td>\n",
       "      <td>1</td>\n",
       "      <td>0</td>\n",
       "      <td>0</td>\n",
       "    </tr>\n",
       "    <tr>\n",
       "      <th>2</th>\n",
       "      <td>1</td>\n",
       "      <td>1</td>\n",
       "      <td>1</td>\n",
       "      <td>1</td>\n",
       "      <td>2</td>\n",
       "      <td>0</td>\n",
       "      <td>1</td>\n",
       "      <td>3</td>\n",
       "      <td>2</td>\n",
       "      <td>2</td>\n",
       "      <td>...</td>\n",
       "      <td>1</td>\n",
       "      <td>12</td>\n",
       "      <td>13</td>\n",
       "      <td>12</td>\n",
       "      <td>2</td>\n",
       "      <td>1</td>\n",
       "      <td>0</td>\n",
       "      <td>0</td>\n",
       "      <td>0</td>\n",
       "      <td>0</td>\n",
       "    </tr>\n",
       "    <tr>\n",
       "      <th>3</th>\n",
       "      <td>1</td>\n",
       "      <td>1</td>\n",
       "      <td>4</td>\n",
       "      <td>2</td>\n",
       "      <td>3</td>\n",
       "      <td>0</td>\n",
       "      <td>1</td>\n",
       "      <td>2</td>\n",
       "      <td>2</td>\n",
       "      <td>1</td>\n",
       "      <td>...</td>\n",
       "      <td>0</td>\n",
       "      <td>14</td>\n",
       "      <td>14</td>\n",
       "      <td>14</td>\n",
       "      <td>3</td>\n",
       "      <td>1</td>\n",
       "      <td>0</td>\n",
       "      <td>0</td>\n",
       "      <td>0</td>\n",
       "      <td>0</td>\n",
       "    </tr>\n",
       "    <tr>\n",
       "      <th>4</th>\n",
       "      <td>1</td>\n",
       "      <td>1</td>\n",
       "      <td>3</td>\n",
       "      <td>3</td>\n",
       "      <td>2</td>\n",
       "      <td>0</td>\n",
       "      <td>1</td>\n",
       "      <td>3</td>\n",
       "      <td>2</td>\n",
       "      <td>1</td>\n",
       "      <td>...</td>\n",
       "      <td>0</td>\n",
       "      <td>11</td>\n",
       "      <td>13</td>\n",
       "      <td>13</td>\n",
       "      <td>2</td>\n",
       "      <td>0</td>\n",
       "      <td>1</td>\n",
       "      <td>0</td>\n",
       "      <td>0</td>\n",
       "      <td>0</td>\n",
       "    </tr>\n",
       "  </tbody>\n",
       "</table>\n",
       "<p>5 rows × 22 columns</p>\n",
       "</div>"
      ],
      "text/plain": [
       "   school  address  Medu  Fedu  studytime  failures  higher  freetime  goout  \\\n",
       "0       1        1     4     4          2         0       1         3      4   \n",
       "1       1        1     1     1          2         0       1         3      3   \n",
       "2       1        1     1     1          2         0       1         3      2   \n",
       "3       1        1     4     2          3         0       1         2      2   \n",
       "4       1        1     3     3          2         0       1         3      2   \n",
       "\n",
       "   Dalc  ...  absences  G1  G2  G3  Grades  age_15  age_16  age_17  age_18  \\\n",
       "0     1  ...         1   0  11  11       0       0       0       0       1   \n",
       "1     1  ...         1   9  11  11       1       0       0       1       0   \n",
       "2     2  ...         1  12  13  12       2       1       0       0       0   \n",
       "3     1  ...         0  14  14  14       3       1       0       0       0   \n",
       "4     1  ...         0  11  13  13       2       0       1       0       0   \n",
       "\n",
       "   age_over_18  \n",
       "0            0  \n",
       "1            0  \n",
       "2            0  \n",
       "3            0  \n",
       "4            0  \n",
       "\n",
       "[5 rows x 22 columns]"
      ]
     },
     "execution_count": 13,
     "metadata": {},
     "output_type": "execute_result"
    }
   ],
   "source": [
    "data.head()"
   ]
  },
  {
   "cell_type": "markdown",
   "id": "829d6a94",
   "metadata": {},
   "source": [
    "### Oversampling"
   ]
  },
  {
   "cell_type": "code",
   "execution_count": 14,
   "id": "7a9f5b10",
   "metadata": {},
   "outputs": [
    {
     "data": {
      "text/plain": [
       "Grades\n",
       "1    338\n",
       "2    236\n",
       "3    161\n",
       "0    139\n",
       "4    116\n",
       "Name: count, dtype: int64"
      ]
     },
     "execution_count": 14,
     "metadata": {},
     "output_type": "execute_result"
    }
   ],
   "source": [
    "data['Grades'].value_counts()"
   ]
  },
  {
   "cell_type": "code",
   "execution_count": 15,
   "id": "3fae5057",
   "metadata": {},
   "outputs": [
    {
     "data": {
      "image/png": "[encoded data removed]",
      "text/plain": [
       "<Figure size 640x480 with 1 Axes>"
      ]
     },
     "metadata": {},
     "output_type": "display_data"
    }
   ],
   "source": [
    "sns.countplot(x = data['Grades'],order=[0,1,2,3,4]).set_xticklabels(['Fail', 'Satisfied', 'Good', 'Very Good', 'Excellent'])\n",
    "\n",
    "plt.show()"
   ]
  },
  {
   "cell_type": "code",
   "execution_count": 16,
   "id": "6bc1217a",
   "metadata": {},
   "outputs": [
    {
     "name": "stdout",
     "output_type": "stream",
     "text": [
      "338 236 161 139 116\n"
     ]
    }
   ],
   "source": [
    "majority, minor_1, minor_2, minor_3, minor_4 = data[\"Grades\"].value_counts()\n",
    "print(majority, minor_1, minor_2, minor_3, minor_4)"
   ]
  },
  {
   "cell_type": "code",
   "execution_count": 17,
   "id": "e75b0283",
   "metadata": {},
   "outputs": [],
   "source": [
    "# Oversample minority classes\n",
    "df_minor_1 = data[data[\"Grades\"] == 2].sample(majority - minor_1, replace=True)\n",
    "df_minor_2 = data[data[\"Grades\"] == 3].sample(majority - minor_2, replace=True)\n",
    "df_minor_3 = data[data[\"Grades\"] == 0].sample(majority - minor_3, replace=True)\n",
    "df_minor_4 = data[data[\"Grades\"] == 4].sample(majority - minor_4, replace=True)\n",
    "\n",
    "# Concatenate oversampled minority samples with original DataFrame\n",
    "data = pd.concat([df_minor_1, df_minor_2, df_minor_3, df_minor_4, data], axis=0)"
   ]
  },
  {
   "cell_type": "code",
   "execution_count": 18,
   "id": "16c1066c",
   "metadata": {},
   "outputs": [
    {
     "data": {
      "image/png": "[encoded data removed]",
      "text/plain": [
       "<Figure size 640x480 with 1 Axes>"
      ]
     },
     "metadata": {},
     "output_type": "display_data"
    }
   ],
   "source": [
    "sns.countplot(x = data['Grades'],order=[0,1,2,3,4]).set_xticklabels(['Fail', 'Satisfied', 'Good', 'Very Good', 'Excellent'])\n",
    "\n",
    "plt.show()"
   ]
  },
  {
   "cell_type": "markdown",
   "id": "02923f0c",
   "metadata": {},
   "source": [
    "# Models to predict student's performance based on background"
   ]
  },
  {
   "cell_type": "markdown",
   "id": "aa31da2b",
   "metadata": {},
   "source": [
    "### Import neccessary libraries"
   ]
  },
  {
   "cell_type": "code",
   "execution_count": 19,
   "id": "19dbe259",
   "metadata": {},
   "outputs": [],
   "source": [
    "from sklearn.model_selection import train_test_split\n",
    "\n",
    "from sklearn.tree import DecisionTreeClassifier\n",
    "from sklearn.ensemble import RandomForestClassifier\n",
    "from sklearn.svm import SVC\n",
    "from sklearn.neighbors import KNeighborsClassifier\n",
    "from sklearn.linear_model import LogisticRegression\n",
    "from sklearn.ensemble import GradientBoostingClassifier\n",
    "\n",
    "from sklearn.metrics import accuracy_score\n",
    "from sklearn.metrics import classification_report"
   ]
  },
  {
   "cell_type": "markdown",
   "id": "a03a0b71",
   "metadata": {},
   "source": [
    "### Define features and target"
   ]
  },
  {
   "cell_type": "code",
   "execution_count": 20,
   "id": "32d60d5e",
   "metadata": {},
   "outputs": [],
   "source": [
    "features = data.drop([\"Grades\", \"G1\", \"G2\", \"G3\"] , axis = 1).copy()\n",
    "target = data['Grades'].copy()"
   ]
  },
  {
   "cell_type": "markdown",
   "id": "c8522df3",
   "metadata": {},
   "source": [
    "### Split data to prepare for Machine Learning models"
   ]
  },
  {
   "cell_type": "code",
   "execution_count": 21,
   "id": "61547115",
   "metadata": {},
   "outputs": [],
   "source": [
    "X_train, X_test, y_train, y_test = train_test_split(features, target, test_size=0.2, random_state=42)"
   ]
  },
  {
   "cell_type": "markdown",
   "id": "ebcd206e",
   "metadata": {},
   "source": [
    "### Decision Tree Classifier"
   ]
  },
  {
   "cell_type": "code",
   "execution_count": 22,
   "id": "f1ddef52",
   "metadata": {},
   "outputs": [
    {
     "name": "stdout",
     "output_type": "stream",
     "text": [
      "Decision Tree Classifier Classification Report:\n",
      " 0.6745562130177515\n"
     ]
    }
   ],
   "source": [
    "decision_tree_model = DecisionTreeClassifier(random_state=42)\n",
    "decision_tree_model.fit(X_train, y_train)\n",
    "\n",
    "y_pred_dt = decision_tree_model.predict(X_test)\n",
    "\n",
    "print(\"Decision Tree Classifier Classification Report:\\n\", accuracy_score(y_test, y_pred_dt))"
   ]
  },
  {
   "cell_type": "markdown",
   "id": "6512b84b",
   "metadata": {},
   "source": [
    "### Random Forest Classifier"
   ]
  },
  {
   "cell_type": "code",
   "execution_count": 23,
   "id": "33d7897b",
   "metadata": {},
   "outputs": [
    {
     "name": "stdout",
     "output_type": "stream",
     "text": [
      "Random Forest Classifier Classification Report:\n",
      " 0.6893491124260355\n"
     ]
    }
   ],
   "source": [
    "random_forest_model = RandomForestClassifier(random_state=42)\n",
    "random_forest_model.fit(X_train, y_train)\n",
    "\n",
    "y_pred_rf = random_forest_model.predict(X_test)\n",
    "\n",
    "print(\"Random Forest Classifier Classification Report:\\n\", accuracy_score(y_test, y_pred_rf))"
   ]
  },
  {
   "cell_type": "markdown",
   "id": "10a3c238",
   "metadata": {},
   "source": [
    "### Importance rate of features"
   ]
  },
  {
   "cell_type": "code",
   "execution_count": 24,
   "id": "c6bc7cb0",
   "metadata": {},
   "outputs": [
    {
     "data": {
      "image/png": "[encoded data removed]",
      "text/plain": [
       "<Figure size 1200x800 with 1 Axes>"
      ]
     },
     "metadata": {},
     "output_type": "display_data"
    }
   ],
   "source": [
    "plt.figure(figsize=(12, 8))\n",
    "plt.title('Feature Importances Random Forest')\n",
    "importances_dt = random_forest_model.feature_importances_\n",
    "indices_dt = np.argsort(importances_dt)[::-1]\n",
    "plt.barh(range(len(indices_dt)), importances_dt[indices_dt], align='center')\n",
    "plt.yticks(range(len(indices_dt)), [features.columns[i] for i in indices_dt])\n",
    "plt.xlabel('Relative Importance')\n",
    "plt.show()"
   ]
  },
  {
   "cell_type": "markdown",
   "id": "09c3bc8a",
   "metadata": {},
   "source": [
    "### Support Vector Machine (SVM)"
   ]
  },
  {
   "cell_type": "code",
   "execution_count": 25,
   "id": "e6386f1a",
   "metadata": {},
   "outputs": [
    {
     "name": "stdout",
     "output_type": "stream",
     "text": [
      "SVM Classifier Classification Report:\n",
      " 0.41124260355029585\n"
     ]
    }
   ],
   "source": [
    "svm_model = SVC(random_state=42)\n",
    "svm_model.fit(X_train, y_train)\n",
    "\n",
    "y_pred_svm = svm_model.predict(X_test)\n",
    "\n",
    "print(\"SVM Classifier Classification Report:\\n\", accuracy_score(y_test, y_pred_svm))"
   ]
  },
  {
   "cell_type": "markdown",
   "id": "72fbb1ec",
   "metadata": {},
   "source": [
    "### K-Nearest Neighbors (KNN)"
   ]
  },
  {
   "cell_type": "code",
   "execution_count": 26,
   "id": "99b92af1",
   "metadata": {},
   "outputs": [
    {
     "name": "stdout",
     "output_type": "stream",
     "text": [
      "KNN Classifier Classification Report:\n",
      " 0.44970414201183434\n"
     ]
    }
   ],
   "source": [
    "knn_model = KNeighborsClassifier(n_neighbors=5)\n",
    "knn_model.fit(X_train, y_train)\n",
    "\n",
    "y_pred_knn = knn_model.predict(X_test)\n",
    "\n",
    "print(\"KNN Classifier Classification Report:\\n\", accuracy_score(y_test, y_pred_knn))"
   ]
  },
  {
   "cell_type": "markdown",
   "id": "acf9654c",
   "metadata": {},
   "source": [
    "### Logistic Regression"
   ]
  },
  {
   "cell_type": "code",
   "execution_count": 27,
   "id": "8b929ec4",
   "metadata": {},
   "outputs": [
    {
     "name": "stdout",
     "output_type": "stream",
     "text": [
      "Logistic Regression Classifier Classification Report:\n",
      " 0.40532544378698226\n"
     ]
    }
   ],
   "source": [
    "logistic_regression_model = LogisticRegression(random_state=42, max_iter=10000)\n",
    "logistic_regression_model.fit(X_train, y_train)\n",
    "\n",
    "y_pred_lr = logistic_regression_model.predict(X_test)\n",
    "\n",
    "print(\"Logistic Regression Classifier Classification Report:\\n\", accuracy_score(y_test, y_pred_lr))"
   ]
  },
  {
   "cell_type": "markdown",
   "id": "f919dc68",
   "metadata": {},
   "source": [
    "### Gradient Boosting Classifier"
   ]
  },
  {
   "cell_type": "code",
   "execution_count": 28,
   "id": "83342972",
   "metadata": {},
   "outputs": [
    {
     "name": "stdout",
     "output_type": "stream",
     "text": [
      "Gradient Boosting Classifier Classification Report:\n",
      " 0.5266272189349113\n"
     ]
    }
   ],
   "source": [
    "gradient_boosting_model = GradientBoostingClassifier(random_state=42)\n",
    "gradient_boosting_model.fit(X_train, y_train)\n",
    "\n",
    "y_pred_gb = gradient_boosting_model.predict(X_test)\n",
    "\n",
    "print(\"Gradient Boosting Classifier Classification Report:\\n\", accuracy_score(y_test, y_pred_gb))"
   ]
  },
  {
   "cell_type": "markdown",
   "id": "7e6068bd",
   "metadata": {},
   "source": [
    "# Models to predict student's performance based on background and past performances"
   ]
  },
  {
   "cell_type": "markdown",
   "id": "557c2278",
   "metadata": {},
   "source": [
    "From the above models, it is noted that the accuracy of predicting the education level based on background is not high. In order to fix these problems, we will add more data abour student's past performance by keeping 'G1', 'G2'.\n",
    "\n",
    "Because we use the 'G1' - first period grade and 'G2' - second period grade, we will predict level of 'G3' - final grade instead of 'Total'."
   ]
  },
  {
   "cell_type": "code",
   "execution_count": 29,
   "id": "36513d24",
   "metadata": {},
   "outputs": [],
   "source": [
    "conditions = [\n",
    "    (data['G3'] <= 8),\n",
    "    (data['G3'] > 8) & (data['G3'] <= 11),\n",
    "    (data['G3'] > 11) & (data['G3'] <= 13),\n",
    "    (data['G3'] > 13) & (data['G3'] <= 15),\n",
    "    (data['G3'] > 15)\n",
    "]\n",
    "values = ['Fail', 'Satisfied', 'Good', 'Very Good', 'Excellent']\n",
    "\n",
    "data['G3'] = np.select(conditions, values, default='')"
   ]
  },
  {
   "cell_type": "code",
   "execution_count": 30,
   "id": "965d7d57",
   "metadata": {},
   "outputs": [],
   "source": [
    "# Mapping grades to numerical values\n",
    "data[\"G3\"] = data[\"G3\"].map({\"Fail\": 0, \"Satisfied\": 1, \"Good\": 2, \"Very Good\": 3, \"Excellent\": 4})"
   ]
  },
  {
   "cell_type": "code",
   "execution_count": 31,
   "id": "25044e7c",
   "metadata": {},
   "outputs": [],
   "source": [
    "features = data.drop(['Grades', 'G3'] , axis = 1).copy()\n",
    "target = data['G3'].copy()"
   ]
  },
  {
   "cell_type": "markdown",
   "id": "2be54871",
   "metadata": {},
   "source": [
    "### Split data to prepare for Machine Learning models"
   ]
  },
  {
   "cell_type": "code",
   "execution_count": 32,
   "id": "21c9f96b",
   "metadata": {},
   "outputs": [],
   "source": [
    "X_train, X_test, y_train, y_test = train_test_split(features, target, test_size=0.2, random_state=42)"
   ]
  },
  {
   "cell_type": "markdown",
   "id": "7e55d429",
   "metadata": {},
   "source": [
    "### Random Forest"
   ]
  },
  {
   "cell_type": "code",
   "execution_count": 33,
   "id": "8c9fb0ce",
   "metadata": {},
   "outputs": [
    {
     "name": "stdout",
     "output_type": "stream",
     "text": [
      "Random Forest Classifier Classification Report:\n",
      "               precision    recall  f1-score   support\n",
      "\n",
      "           0       0.97      0.86      0.91        69\n",
      "           1       0.78      0.85      0.81        72\n",
      "           2       0.79      0.83      0.81        54\n",
      "           3       0.88      0.93      0.90        69\n",
      "           4       0.99      0.92      0.95        74\n",
      "\n",
      "    accuracy                           0.88       338\n",
      "   macro avg       0.88      0.88      0.88       338\n",
      "weighted avg       0.88      0.88      0.88       338\n",
      "\n"
     ]
    }
   ],
   "source": [
    "random_forest_model = RandomForestClassifier(random_state=42)\n",
    "random_forest_model.fit(X_train, y_train)\n",
    "\n",
    "y_pred_rf = random_forest_model.predict(X_test)\n",
    "\n",
    "print(\"Random Forest Classifier Classification Report:\\n\", classification_report(y_test, y_pred_rf))"
   ]
  },
  {
   "cell_type": "code",
   "execution_count": 34,
   "id": "6bdc7116",
   "metadata": {},
   "outputs": [
    {
     "data": {
      "image/png": "[encoded data removed]",
      "text/plain": [
       "<Figure size 1200x800 with 1 Axes>"
      ]
     },
     "metadata": {},
     "output_type": "display_data"
    }
   ],
   "source": [
    "plt.figure(figsize=(12, 8))\n",
    "plt.title('Feature Importances Random Forest')\n",
    "importances_dt = random_forest_model.feature_importances_\n",
    "indices_dt = np.argsort(importances_dt)[::-1]\n",
    "plt.barh(range(len(indices_dt)), importances_dt[indices_dt], align='center')\n",
    "plt.yticks(range(len(indices_dt)), [features.columns[i] for i in indices_dt])\n",
    "plt.xlabel('Relative Importance')\n",
    "plt.show()"
   ]
  },
  {
   "cell_type": "markdown",
   "id": "0e14d875",
   "metadata": {},
   "source": [
    "### Other Machine Learning models"
   ]
  },
  {
   "cell_type": "code",
   "execution_count": 35,
   "id": "46d70b20",
   "metadata": {},
   "outputs": [
    {
     "name": "stdout",
     "output_type": "stream",
     "text": [
      "Decision Tree Classifier Classification Report:\n",
      " 0.8609467455621301\n",
      "\n",
      "SVM Classifier Classification Report:\n",
      " 0.7603550295857988\n",
      "\n",
      "KNN Classifier Classification Report:\n",
      " 0.7218934911242604\n",
      "\n",
      "Logistic Regression Classifier Classification Report:\n",
      " 0.7514792899408284\n",
      "\n",
      "Gradient Boosting Classifier Classification Report:\n",
      " 0.8313609467455622\n",
      "\n"
     ]
    }
   ],
   "source": [
    "#Decision Tree \n",
    "decision_tree_model = DecisionTreeClassifier(random_state=42)\n",
    "decision_tree_model.fit(X_train, y_train)\n",
    "y_pred_dt = decision_tree_model.predict(X_test)\n",
    "print(\"Decision Tree Classifier Classification Report:\\n\", accuracy_score(y_test, y_pred_dt))\n",
    "print()\n",
    "\n",
    "#Support Vector Machine\n",
    "svm_model = SVC(random_state=42)\n",
    "svm_model.fit(X_train, y_train)\n",
    "y_pred_svm = svm_model.predict(X_test)\n",
    "print(\"SVM Classifier Classification Report:\\n\", accuracy_score(y_test, y_pred_svm))\n",
    "print()\n",
    "\n",
    "#K-Nearest Neighbors (KNN)\n",
    "knn_model = KNeighborsClassifier(n_neighbors=5)\n",
    "knn_model.fit(X_train, y_train)\n",
    "y_pred_knn = knn_model.predict(X_test)\n",
    "print(\"KNN Classifier Classification Report:\\n\", accuracy_score(y_test, y_pred_knn))\n",
    "print()\n",
    "\n",
    "#Logistic Regression\n",
    "logistic_regression_model = LogisticRegression(random_state=42, max_iter=10000)\n",
    "logistic_regression_model.fit(X_train, y_train)\n",
    "y_pred_lr = logistic_regression_model.predict(X_test)\n",
    "print(\"Logistic Regression Classifier Classification Report:\\n\", accuracy_score(y_test, y_pred_lr))\n",
    "print()\n",
    "\n",
    "#Gradient Boosting Classifier\n",
    "gradient_boosting_model = GradientBoostingClassifier(random_state=42)\n",
    "gradient_boosting_model.fit(X_train, y_train)\n",
    "y_pred_gb = gradient_boosting_model.predict(X_test)\n",
    "print(\"Gradient Boosting Classifier Classification Report:\\n\", accuracy_score(y_test, y_pred_gb))\n",
    "print()"
   ]
  }
 ],
 "metadata": {
  "kernelspec": {
   "display_name": "Python 3 (ipykernel)",
   "language": "python",
   "name": "python3"
  },
  "language_info": {
   "codemirror_mode": {
    "name": "ipython",
    "version": 3
   },
   "file_extension": ".py",
   "mimetype": "text/x-python",
   "name": "python",
   "nbconvert_exporter": "python",
   "pygments_lexer": "ipython3",
   "version": "3.11.5"
  }
 },
 "nbformat": 4,
 "nbformat_minor": 5
}
